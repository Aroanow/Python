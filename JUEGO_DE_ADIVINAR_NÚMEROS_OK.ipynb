{
  "nbformat": 4,
  "nbformat_minor": 0,
  "metadata": {
    "colab": {
      "provenance": [],
      "private_outputs": true,
      "authorship_tag": "ABX9TyOVaqVRwQA6TZ4UQ4UZ8CJk",
      "include_colab_link": true
    },
    "kernelspec": {
      "name": "python3",
      "display_name": "Python 3"
    },
    "language_info": {
      "name": "python"
    },
    "gpuClass": "standard"
  },
  "cells": [
    {
      "cell_type": "markdown",
      "metadata": {
        "id": "view-in-github",
        "colab_type": "text"
      },
      "source": [
        "<a href=\"https://colab.research.google.com/github/Aroanow/Python/blob/main/JUEGO_DE_ADIVINAR_N%C3%9AMEROS_OK.ipynb\" target=\"_parent\"><img src=\"https://colab.research.google.com/assets/colab-badge.svg\" alt=\"Open In Colab\"/></a>"
      ]
    },
    {
      "cell_type": "markdown",
      "source": [
        "# JUEGO DE ADIVINAR NÚMEROS\n",
        "Dale al play para jugar!⛳\n",
        "\n",
        "---\n",
        "\n"
      ],
      "metadata": {
        "id": "dLwRV2Aiz4ku"
      }
    },
    {
      "cell_type": "code",
      "source": [
        "### Run to play\n",
        "\n",
        "l=[]\n",
        "print(\"************_________JUEGO DE ADIVINACIÓN_______________**************\\n\\n\\n\")\n",
        "q=input(\"¿Cúantos jugadores seréis?\\n__________________________\")\n",
        "q=int(q)\n",
        "for e in range(int(q)):\n",
        "  from getpass import getpass\n",
        "  name=input(\"\\n¿Cómo te llamas, jugador adivinador?\")\n",
        "  name=name.capitalize()\n",
        "  print(\"¡¡¡¡¡¡ SIN QUE \",name, \"LO VEA!!!!!\\n\")\n",
        "  a=getpass(\"Introduce un numero del 1 al 10 :\\n\")\n",
        "  b=11\n",
        "  score=11\n",
        "\n",
        "  while a!=b and score>0:\n",
        "    print(name.upper())\n",
        "    b=input(\"Adivina un número del 1 al 10: \\n\")\n",
        "    score-=1\n",
        "  else:\n",
        "    if score>0:\n",
        "      print(name,\"HAS ACERTADOOOOOOO!!!! \\n PUNTUACIÓN: \", score )\n",
        "      l.append((name,score))\n",
        "    else:\n",
        "        print(name,\"Has superado el máximo número de intentos por partida!!!!21 \\n Finaliza tu turno.\\n PUNTUACIÓN: \", score )\n",
        "        l.append((name,score))\n",
        "\n",
        "for e,x in l:\n",
        "  print(\"\\n\\n---- Nombre:\", e,\"--- Puntuación:\",x)\n",
        "\n",
        "\n",
        "o=[]\n",
        "p=[]\n",
        "\n",
        "def graph(l,q):\n",
        "  \"\"\" De una lista de tuplas, crea un grafico donde se refleja \n",
        "  cada tupla (nombre, puntación)\"\"\"\n",
        "  import matplotlib.pyplot as plt\n",
        "  import numpy as np\n",
        "  for oi, pi in l:\n",
        "    o.append(oi.upper())\n",
        "    p.append(pi)\n",
        "  col=[\"#ff7f7d\", \"#ffc07d\", \"#817dff\", \"#7dff86\"]\n",
        "  plt.bar(o,p, color=col)\n",
        "  plt.xlabel(\"Jugadores\")\n",
        "  plt.ylabel(\"Puntuación\")\n",
        "  plt.title(\"Ránquing\")\n",
        "  gan=o[p.index(max(p))]\n",
        "  if q==2 and p.count(max(p))!=1:\n",
        "    gan=\"\\n       ** ******** EMPATE ********* **\"\n",
        "    return gan\n",
        "  else:\n",
        "    return print(\"\\n **********¡¡¡¡\",gan.upper(),\"HAS GANADO!!!!*******\")\n",
        "  \n",
        "\n",
        "graph(l,q)\n",
        "\n"
      ],
      "metadata": {
        "id": "vlJ0RngMAlUf"
      },
      "execution_count": null,
      "outputs": []
    },
    {
      "cell_type": "code",
      "source": [],
      "metadata": {
        "id": "uL6Tup9k2A0r"
      },
      "execution_count": null,
      "outputs": []
    }
  ]
}