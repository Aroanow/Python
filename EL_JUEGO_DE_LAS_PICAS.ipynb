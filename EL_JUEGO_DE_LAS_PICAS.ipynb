{
  "nbformat": 4,
  "nbformat_minor": 0,
  "metadata": {
    "colab": {
      "name": "EL JUEGO DE LAS PICAS.ipynb",
      "provenance": [],
      "authorship_tag": "ABX9TyNoHLEDipZQeKZTUCvo+fSs",
      "include_colab_link": true
    },
    "kernelspec": {
      "name": "python3",
      "display_name": "Python 3"
    },
    "language_info": {
      "name": "python"
    }
  },
  "cells": [
    {
      "cell_type": "markdown",
      "metadata": {
        "id": "view-in-github",
        "colab_type": "text"
      },
      "source": [
        "<a href=\"https://colab.research.google.com/github/Aroanow/Python/blob/main/EL_JUEGO_DE_LAS_PICAS.ipynb\" target=\"_parent\"><img src=\"https://colab.research.google.com/assets/colab-badge.svg\" alt=\"Open In Colab\"/></a>"
      ]
    },
    {
      "cell_type": "markdown",
      "source": [
        "\n",
        "**EL JUEGO DE LAS PICAS**"
      ],
      "metadata": {
        "id": "5hRRSNB9rR6k"
      }
    },
    {
      "cell_type": "code",
      "source": [
        "##EL JUEGO DE LAS PICAS\n",
        "\n",
        "from getpass import getpass\n",
        "n= str(getpass (\"Di un número de cuatro cifras, no puedes repetir los números: \"))\n",
        "\n",
        "l=[]\n",
        "l.append(n[0])\n",
        "l.append(n[1])\n",
        "l.append(n[2])\n",
        "l.append(n[3])\n",
        "\n",
        "\n",
        "igual= 0\n",
        "count=0\n",
        "\n",
        "g1= input(str(\"Adivina un número de cuatro cifras, no puedes repetir los números: \"))\n",
        "lg1=[]\n",
        "for k in range(4):\n",
        "  if g1[k]==n[k]:\n",
        "    igual+=1\n",
        "  else:\n",
        "    if g1[k] in l:\n",
        "      count+=1\n",
        "print(\"Hay\", count, \"correctos pero desordenados y hay\",igual, \"correctos y ordenados en su posición!!\" )"
      ],
      "metadata": {
        "colab": {
          "base_uri": "https://localhost:8080/"
        },
        "id": "B4Y1YNP8rUHt",
        "outputId": "e763ba07-67a0-4153-ae20-20fbc725d66c"
      },
      "execution_count": 17,
      "outputs": [
        {
          "output_type": "stream",
          "name": "stdout",
          "text": [
            "Di un número de cuatro cifras, no puedes repetir los números: ··········\n",
            "Adivina un número de cuatro cifras, no puedes repetir los números: 1654\n",
            "hay 1 correctos pero desordenados y hay 1 correctos y ordenados en su posición!!\n"
          ]
        }
      ]
    }
  ]
}
