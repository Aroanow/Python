{
  "nbformat": 4,
  "nbformat_minor": 0,
  "metadata": {
    "colab": {
      "name": "Untitled0.ipynb",
      "provenance": [],
      "authorship_tag": "ABX9TyNTcWaZuGukt/8OX6G7EDyj",
      "include_colab_link": true
    },
    "kernelspec": {
      "name": "python3",
      "display_name": "Python 3"
    },
    "language_info": {
      "name": "python"
    }
  },
  "cells": [
    {
      "cell_type": "markdown",
      "metadata": {
        "id": "view-in-github",
        "colab_type": "text"
      },
      "source": [
        "<a href=\"https://colab.research.google.com/github/Aroanow/Python/blob/main/Untitled0.ipynb\" target=\"_parent\"><img src=\"https://colab.research.google.com/assets/colab-badge.svg\" alt=\"Open In Colab\"/></a>"
      ]
    },
    {
      "cell_type": "code",
      "execution_count": null,
      "metadata": {
        "id": "Mqd3jeheZT2F"
      },
      "outputs": [],
      "source": [
        "words = [\"Aroa\",\"PETER\",\"Anna\",\"SOFIA\",\"Jordi\",\"Pep\",\"Carlos\",\"Anastasia\",\"Helena\",\"Júlia\"]\n",
        "data={\"Nombre\": words,\n",
        "       \"N. C.\": map(len,words),\n",
        "       \"First\": map(lambda x: x[0],words),\n",
        "       \"Last\" : map(lambda x: x[-1],words),\n",
        "       \"Medio\": map(lambda x: x[1:-1],words)}"
      ]
    },
    {
      "cell_type": "code",
      "source": [
        "import pandas as pd\n",
        "\n",
        "caballo=pd.DataFrame(data)\n",
        "\n"
      ],
      "metadata": {
        "id": "DoTm0hBBbtwT"
      },
      "execution_count": null,
      "outputs": []
    },
    {
      "cell_type": "code",
      "source": [
        "caballo= caballo.set_index(\"Nombre\")"
      ],
      "metadata": {
        "id": "l1ryJd6ucHFm"
      },
      "execution_count": null,
      "outputs": []
    },
    {
      "cell_type": "code",
      "source": [
        "caballo.index.names =[None]"
      ],
      "metadata": {
        "id": "uqBVX-dJc33o"
      },
      "execution_count": null,
      "outputs": []
    },
    {
      "cell_type": "code",
      "source": [
        "caballo"
      ],
      "metadata": {
        "colab": {
          "base_uri": "https://localhost:8080/",
          "height": 456
        },
        "id": "_77WPZwFc-xs",
        "outputId": "8a08b81b-cd9f-47ea-fd2f-a993b8e3f15a"
      },
      "execution_count": null,
      "outputs": [
        {
          "output_type": "execute_result",
          "data": {
            "text/html": [
              "\n",
              "  <div id=\"df-756d29bc-5703-45c1-a826-e750f2b596cd\">\n",
              "    <div class=\"colab-df-container\">\n",
              "      <div>\n",
              "<style scoped>\n",
              "    .dataframe tbody tr th:only-of-type {\n",
              "        vertical-align: middle;\n",
              "    }\n",
              "\n",
              "    .dataframe tbody tr th {\n",
              "        vertical-align: top;\n",
              "    }\n",
              "\n",
              "    .dataframe thead th {\n",
              "        text-align: right;\n",
              "    }\n",
              "</style>\n",
              "<table border=\"1\" class=\"dataframe\">\n",
              "  <thead>\n",
              "    <tr style=\"text-align: right;\">\n",
              "      <th></th>\n",
              "      <th>N. C.</th>\n",
              "      <th>First</th>\n",
              "      <th>Last</th>\n",
              "      <th>Medio</th>\n",
              "    </tr>\n",
              "  </thead>\n",
              "  <tbody>\n",
              "    <tr>\n",
              "      <th>Aroa</th>\n",
              "      <td>4</td>\n",
              "      <td>A</td>\n",
              "      <td>a</td>\n",
              "      <td>ro</td>\n",
              "    </tr>\n",
              "    <tr>\n",
              "      <th>PETER</th>\n",
              "      <td>5</td>\n",
              "      <td>P</td>\n",
              "      <td>R</td>\n",
              "      <td>ETE</td>\n",
              "    </tr>\n",
              "    <tr>\n",
              "      <th>Anna</th>\n",
              "      <td>4</td>\n",
              "      <td>A</td>\n",
              "      <td>a</td>\n",
              "      <td>nn</td>\n",
              "    </tr>\n",
              "    <tr>\n",
              "      <th>SOFIA</th>\n",
              "      <td>5</td>\n",
              "      <td>S</td>\n",
              "      <td>A</td>\n",
              "      <td>OFI</td>\n",
              "    </tr>\n",
              "    <tr>\n",
              "      <th>Jordi</th>\n",
              "      <td>5</td>\n",
              "      <td>J</td>\n",
              "      <td>i</td>\n",
              "      <td>ord</td>\n",
              "    </tr>\n",
              "    <tr>\n",
              "      <th>Pep</th>\n",
              "      <td>3</td>\n",
              "      <td>P</td>\n",
              "      <td>p</td>\n",
              "      <td>e</td>\n",
              "    </tr>\n",
              "    <tr>\n",
              "      <th>Carlos</th>\n",
              "      <td>6</td>\n",
              "      <td>C</td>\n",
              "      <td>s</td>\n",
              "      <td>arlo</td>\n",
              "    </tr>\n",
              "    <tr>\n",
              "      <th>Anastasia</th>\n",
              "      <td>9</td>\n",
              "      <td>A</td>\n",
              "      <td>a</td>\n",
              "      <td>nastasi</td>\n",
              "    </tr>\n",
              "    <tr>\n",
              "      <th>Helena</th>\n",
              "      <td>6</td>\n",
              "      <td>H</td>\n",
              "      <td>a</td>\n",
              "      <td>elen</td>\n",
              "    </tr>\n",
              "    <tr>\n",
              "      <th>Júlia</th>\n",
              "      <td>5</td>\n",
              "      <td>J</td>\n",
              "      <td>a</td>\n",
              "      <td>úli</td>\n",
              "    </tr>\n",
              "  </tbody>\n",
              "</table>\n",
              "</div>\n",
              "      <button class=\"colab-df-convert\" onclick=\"convertToInteractive('df-756d29bc-5703-45c1-a826-e750f2b596cd')\"\n",
              "              title=\"Convert this dataframe to an interactive table.\"\n",
              "              style=\"display:none;\">\n",
              "        \n",
              "  <svg xmlns=\"http://www.w3.org/2000/svg\" height=\"24px\"viewBox=\"0 0 24 24\"\n",
              "       width=\"24px\">\n",
              "    <path d=\"M0 0h24v24H0V0z\" fill=\"none\"/>\n",
              "    <path d=\"M18.56 5.44l.94 2.06.94-2.06 2.06-.94-2.06-.94-.94-2.06-.94 2.06-2.06.94zm-11 1L8.5 8.5l.94-2.06 2.06-.94-2.06-.94L8.5 2.5l-.94 2.06-2.06.94zm10 10l.94 2.06.94-2.06 2.06-.94-2.06-.94-.94-2.06-.94 2.06-2.06.94z\"/><path d=\"M17.41 7.96l-1.37-1.37c-.4-.4-.92-.59-1.43-.59-.52 0-1.04.2-1.43.59L10.3 9.45l-7.72 7.72c-.78.78-.78 2.05 0 2.83L4 21.41c.39.39.9.59 1.41.59.51 0 1.02-.2 1.41-.59l7.78-7.78 2.81-2.81c.8-.78.8-2.07 0-2.86zM5.41 20L4 18.59l7.72-7.72 1.47 1.35L5.41 20z\"/>\n",
              "  </svg>\n",
              "      </button>\n",
              "      \n",
              "  <style>\n",
              "    .colab-df-container {\n",
              "      display:flex;\n",
              "      flex-wrap:wrap;\n",
              "      gap: 12px;\n",
              "    }\n",
              "\n",
              "    .colab-df-convert {\n",
              "      background-color: #E8F0FE;\n",
              "      border: none;\n",
              "      border-radius: 50%;\n",
              "      cursor: pointer;\n",
              "      display: none;\n",
              "      fill: #1967D2;\n",
              "      height: 32px;\n",
              "      padding: 0 0 0 0;\n",
              "      width: 32px;\n",
              "    }\n",
              "\n",
              "    .colab-df-convert:hover {\n",
              "      background-color: #E2EBFA;\n",
              "      box-shadow: 0px 1px 2px rgba(60, 64, 67, 0.3), 0px 1px 3px 1px rgba(60, 64, 67, 0.15);\n",
              "      fill: #174EA6;\n",
              "    }\n",
              "\n",
              "    [theme=dark] .colab-df-convert {\n",
              "      background-color: #3B4455;\n",
              "      fill: #D2E3FC;\n",
              "    }\n",
              "\n",
              "    [theme=dark] .colab-df-convert:hover {\n",
              "      background-color: #434B5C;\n",
              "      box-shadow: 0px 1px 3px 1px rgba(0, 0, 0, 0.15);\n",
              "      filter: drop-shadow(0px 1px 2px rgba(0, 0, 0, 0.3));\n",
              "      fill: #FFFFFF;\n",
              "    }\n",
              "  </style>\n",
              "\n",
              "      <script>\n",
              "        const buttonEl =\n",
              "          document.querySelector('#df-756d29bc-5703-45c1-a826-e750f2b596cd button.colab-df-convert');\n",
              "        buttonEl.style.display =\n",
              "          google.colab.kernel.accessAllowed ? 'block' : 'none';\n",
              "\n",
              "        async function convertToInteractive(key) {\n",
              "          const element = document.querySelector('#df-756d29bc-5703-45c1-a826-e750f2b596cd');\n",
              "          const dataTable =\n",
              "            await google.colab.kernel.invokeFunction('convertToInteractive',\n",
              "                                                     [key], {});\n",
              "          if (!dataTable) return;\n",
              "\n",
              "          const docLinkHtml = 'Like what you see? Visit the ' +\n",
              "            '<a target=\"_blank\" href=https://colab.research.google.com/notebooks/data_table.ipynb>data table notebook</a>'\n",
              "            + ' to learn more about interactive tables.';\n",
              "          element.innerHTML = '';\n",
              "          dataTable['output_type'] = 'display_data';\n",
              "          await google.colab.output.renderOutput(dataTable, element);\n",
              "          const docLink = document.createElement('div');\n",
              "          docLink.innerHTML = docLinkHtml;\n",
              "          element.appendChild(docLink);\n",
              "        }\n",
              "      </script>\n",
              "    </div>\n",
              "  </div>\n",
              "  "
            ],
            "text/plain": [
              "           N. C. First Last    Medio\n",
              "Aroa           4     A    a       ro\n",
              "PETER          5     P    R      ETE\n",
              "Anna           4     A    a       nn\n",
              "SOFIA          5     S    A      OFI\n",
              "Jordi          5     J    i      ord\n",
              "Pep            3     P    p        e\n",
              "Carlos         6     C    s     arlo\n",
              "Anastasia      9     A    a  nastasi\n",
              "Helena         6     H    a     elen\n",
              "Júlia          5     J    a      úli"
            ]
          },
          "metadata": {},
          "execution_count": 21
        }
      ]
    },
    {
      "cell_type": "code",
      "source": [
        "  sofiakaka\n",
        "  ç"
      ],
      "metadata": {
        "id": "BO5ZjY5QkQ9J"
      },
      "execution_count": null,
      "outputs": []
    }
  ]
}