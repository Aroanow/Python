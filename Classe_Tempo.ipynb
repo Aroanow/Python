{
  "nbformat": 4,
  "nbformat_minor": 0,
  "metadata": {
    "colab": {
      "provenance": [],
      "toc_visible": true,
      "authorship_tag": "ABX9TyNdhNrq2Q8eWK/VyOF3skQ6",
      "include_colab_link": true
    },
    "kernelspec": {
      "name": "python3",
      "display_name": "Python 3"
    },
    "language_info": {
      "name": "python"
    }
  },
  "cells": [
    {
      "cell_type": "markdown",
      "metadata": {
        "id": "view-in-github",
        "colab_type": "text"
      },
      "source": [
        "<a href=\"https://colab.research.google.com/github/Aroanow/Python/blob/main/Classe_Tempo.ipynb\" target=\"_parent\"><img src=\"https://colab.research.google.com/assets/colab-badge.svg\" alt=\"Open In Colab\"/></a>"
      ]
    },
    {
      "cell_type": "markdown",
      "source": [
        "# Ejercicio TEMPO\n"
      ],
      "metadata": {
        "id": "cn42CIsvl5_X"
      }
    },
    {
      "cell_type": "markdown",
      "source": [
        "Classe para calcular la duración de una obra musical que no cambie de compas en el mismo movimiento.\n",
        " Contiene: tempo, unidad de compàs y número de compases.\n",
        " Devuelve: Minutos y segundos.\n",
        " \n",
        "\n",
        "---ej:\n",
        "allegro=Tempo(102,0,100)\n",
        "\n",
        "print(allegro)\n",
        "\n",
        "DURACIÓ DE LA PEÇA: 7 minuts, 50 segons\n",
        "\n",
        "\n",
        "Tempo.suma(allegro, lento)\n",
        "\n",
        "Sumará dos movimientos.\n",
        "\n",
        "*Els siguiente paso serà ir sumando el total de tempos introducidos.*\n"
      ],
      "metadata": {
        "id": "E5JyHYhTWFnc"
      }
    },
    {
      "cell_type": "code",
      "source": [
        "\n",
        "def sec_to(x):\n",
        "   \n",
        "      minuts= x//60\n",
        "      segons= x%60\n",
        "      if segons>60:\n",
        "        segons=0\n",
        "        minuts+1\n",
        "        print(str(int(minuts)),\"minuts\")\n",
        "      else:\n",
        "        print(str(int(minuts)),\"minuts i \"+str(int(segons)),\"segons\")\n",
        "\n",
        "class Tempo():\n",
        "  def __init__(self,t,uc,nc=1):\n",
        "    self.tempo=t\n",
        "    self.unitat_compas=uc\n",
        "    self.numero_compases=nc\n",
        "\n",
        "  def beats_totales(self):\n",
        "    return self.numero_compases*self.unitat_compas  \n",
        "\n",
        "  def tempo_rate(self):\n",
        "    return 60/self.tempo\n",
        "    \n",
        "  def duracio(self):\n",
        "    return self.tempo_rate()*self.beats_totales()\n",
        "    \n",
        "  @property\n",
        "  def min_seg(self):\n",
        "      minuts= self.duracio()//60\n",
        "      segons= self.duracio()%60\n",
        "      if segons>=60:\n",
        "        segons=0\n",
        "        minuts+1\n",
        "      \n",
        "      return \"DURACIÓ DE LA PEÇA: {} minuts, {} segons\".format(int(minuts),int(segons))  \n",
        "   \n",
        "  @staticmethod\n",
        "  def suma_moviments(movA,movB):  \n",
        "    movA.duracio()+movB.duracio()\n",
        "    return movA.duracio()+movB.duracio()\n",
        "\n",
        "  def suma(x,y):\n",
        "    \"\"\" Nos suma y pasa a minutos y segundos\n",
        "    dos movimientos solo \"\"\"\n",
        "    sec_to(Tempo.suma_moviments(x,y))\n",
        "\n",
        "  def __str__(self):\n",
        "   return self.min_seg\n"
      ],
      "metadata": {
        "id": "XWKee4SZgcOu"
      },
      "execution_count": 12,
      "outputs": []
    },
    {
      "cell_type": "markdown",
      "source": [],
      "metadata": {
        "id": "59C8JD4MSjKI"
      }
    },
    {
      "cell_type": "code",
      "source": [
        "jota=Tempo(102,8,100)"
      ],
      "metadata": {
        "id": "fo2Iw043HiCd"
      },
      "execution_count": 14,
      "outputs": []
    },
    {
      "cell_type": "code",
      "source": [
        "print(jota)"
      ],
      "metadata": {
        "colab": {
          "base_uri": "https://localhost:8080/"
        },
        "id": "7ZdwdpDXVjON",
        "outputId": "7f1e0296-0a2a-451a-902b-3b2a033b8920"
      },
      "execution_count": 15,
      "outputs": [
        {
          "output_type": "stream",
          "name": "stdout",
          "text": [
            "DURACIÓ DE LA PEÇA: 7 minuts, 50 segons\n"
          ]
        }
      ]
    },
    {
      "cell_type": "code",
      "source": [
        "Tempo.suma(jota, allegro)"
      ],
      "metadata": {
        "colab": {
          "base_uri": "https://localhost:8080/"
        },
        "id": "jolP-6xaV5Ql",
        "outputId": "0dc47fa0-682f-4482-e29a-fef64512bac5"
      },
      "execution_count": 18,
      "outputs": [
        {
          "output_type": "stream",
          "name": "stdout",
          "text": [
            "21 minuts i 13 segons\n"
          ]
        }
      ]
    },
    {
      "cell_type": "code",
      "source": [
        "lento=Tempo(40,3,500)\n",
        "\n",
        "allegro= Tempo(96,4,321)"
      ],
      "metadata": {
        "id": "Co0KZf-npI3P"
      },
      "execution_count": 17,
      "outputs": []
    },
    {
      "cell_type": "code",
      "source": [
        "Tempo.suma(allegro,lento)"
      ],
      "metadata": {
        "colab": {
          "base_uri": "https://localhost:8080/"
        },
        "id": "d6wp6-HOUMCj",
        "outputId": "437efc6d-5be5-401a-fc71-914e84a31c5f"
      },
      "execution_count": 4,
      "outputs": [
        {
          "output_type": "stream",
          "name": "stdout",
          "text": [
            "50 minuts i 52 segons\n"
          ]
        }
      ]
    },
    {
      "cell_type": "code",
      "source": [
        "\n",
        "print(allegro)"
      ],
      "metadata": {
        "colab": {
          "base_uri": "https://localhost:8080/"
        },
        "id": "erj_XNWUNBhP",
        "outputId": "0340439d-5214-40bc-ef79-cced10573591"
      },
      "execution_count": 3,
      "outputs": [
        {
          "output_type": "stream",
          "name": "stdout",
          "text": [
            "DURACIÓ DE LA PEÇA: 13 minuts, 22 segons\n"
          ]
        }
      ]
    },
    {
      "cell_type": "code",
      "source": [
        "allegro.duracio()"
      ],
      "metadata": {
        "colab": {
          "base_uri": "https://localhost:8080/"
        },
        "id": "x66JmV2hMaHe",
        "outputId": "ccd7cfa0-6a23-4cc6-9de5-8176cf552dca"
      },
      "execution_count": 167,
      "outputs": [
        {
          "output_type": "execute_result",
          "data": {
            "text/plain": [
              "802.5"
            ]
          },
          "metadata": {},
          "execution_count": 167
        }
      ]
    },
    {
      "cell_type": "code",
      "source": [
        "\n",
        "\n",
        "allegro.min_seg"
      ],
      "metadata": {
        "colab": {
          "base_uri": "https://localhost:8080/",
          "height": 58
        },
        "id": "CTDMVzyTpReG",
        "outputId": "58dd5ef1-c964-4fad-e56d-a715375b75ea"
      },
      "execution_count": 163,
      "outputs": [
        {
          "output_type": "execute_result",
          "data": {
            "text/plain": [
              "'DURACIÓ DE LA PEÇA: 13 minuts, 22 segons'"
            ],
            "application/vnd.google.colaboratory.intrinsic+json": {
              "type": "string"
            }
          },
          "metadata": {},
          "execution_count": 163
        }
      ]
    },
    {
      "cell_type": "code",
      "source": [
        "\n",
        "lento.min_seg"
      ],
      "metadata": {
        "colab": {
          "base_uri": "https://localhost:8080/",
          "height": 58
        },
        "id": "wVAqNScvGbl5",
        "outputId": "a12d14c1-d83e-4a6b-aec9-d853a1bed9ba"
      },
      "execution_count": 164,
      "outputs": [
        {
          "output_type": "execute_result",
          "data": {
            "text/plain": [
              "'DURACIÓ DE LA PEÇA: 37 minuts, 30 segons'"
            ],
            "application/vnd.google.colaboratory.intrinsic+json": {
              "type": "string"
            }
          },
          "metadata": {},
          "execution_count": 164
        }
      ]
    },
    {
      "cell_type": "code",
      "source": [
        "sec_to(Tempo.suma_moviments(allegro,lento))"
      ],
      "metadata": {
        "colab": {
          "base_uri": "https://localhost:8080/"
        },
        "id": "-QMfpqwNIlnH",
        "outputId": "2c08942d-09d7-49ca-d1a1-93f45f8aca32"
      },
      "execution_count": 168,
      "outputs": [
        {
          "output_type": "stream",
          "name": "stdout",
          "text": [
            "50 minuts i 52 segons\n"
          ]
        }
      ]
    },
    {
      "cell_type": "code",
      "source": [
        "Tempo.suma_moviments(allegro,lento)"
      ],
      "metadata": {
        "colab": {
          "base_uri": "https://localhost:8080/"
        },
        "id": "-gC6OtzOMmrd",
        "outputId": "1a9710c6-f301-4935-8ce1-baaaae3f81ce"
      },
      "execution_count": 139,
      "outputs": [
        {
          "output_type": "execute_result",
          "data": {
            "text/plain": [
              "3052.5"
            ]
          },
          "metadata": {},
          "execution_count": 139
        }
      ]
    },
    {
      "cell_type": "code",
      "source": [
        "3052%60"
      ],
      "metadata": {
        "colab": {
          "base_uri": "https://localhost:8080/"
        },
        "id": "DQLDxEP4OZ7X",
        "outputId": "f95810c2-92c4-439c-e975-c0dbda546b64"
      },
      "execution_count": 142,
      "outputs": [
        {
          "output_type": "execute_result",
          "data": {
            "text/plain": [
              "52"
            ]
          },
          "metadata": {},
          "execution_count": 142
        }
      ]
    }
  ]
}